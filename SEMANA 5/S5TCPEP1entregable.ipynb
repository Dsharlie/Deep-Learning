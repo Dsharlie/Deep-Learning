{
 "cells": [
  {
   "cell_type": "markdown",
   "metadata": {
    "id": "z7U8lp55qfdA"
   },
   "source": [
    "## Redes Convolucionales para reconocimiento de imágenes\n",
    "\n",
    "## Actividad calificada por el personal\n",
    "\n",
    "### Propósito \n",
    "\n",
    "En el laboratorio \"Implementación de Redes Convolucionales en Keras\" se propuso una implementación a través de *\"Keras\"* de una red convolucional para una base de datos que contiene imágenes de dígitos manuscritos. En este *notebook* se pretende evaluar el uso de *keras* al aplicar una red convolucional sobre un conjunto de imágenes más complejo, \"Fashion MNIST\". \n",
    "\n",
    "### Instrucciones generales\n",
    "\n",
    "1. Los procedimientos en el notebook deberán responderse en los espacios especificados para tal fin, debajo de cada uno de los puntos.\n",
    "\n",
    "2. Para que la actividad sea calificada, deberán subir únicamente este mismo archivo con la extensión \".ipynb\" a la actividad de \"entrega calificada por el personal\" correspondiente a este caso.\n",
    "\n",
    "3. El archivo que suban debe poder ejecutarse en una imagen de Coursera cuando sea evaluado por el tutor, asumiendo que la base de datos de la actividad ya ha sido importada en el correspondiente archivo separado por comas (.csv).\n",
    "\n",
    "### Criterios a evaluar\n",
    "\n",
    "Los criterios que se evaluarán son:\n",
    "\n",
    "Preparación de las variables: Se adaptan los datos apropiadamente para el uso de las funciones de `keras` y realiza la partición de la muestra en entrenamiento, validación y test. [15 puntos]\n",
    "\n",
    "Estimación de un modelo utilizando redes neuronales convolucionales: Se estima el modelo usando una CNN, se establecen los parámetros y estructuras apropiadamente, se evalúa en la muestra de test y se analizan correctamente los resultados y el procedimiento realizado. [45 puntos]\n",
    "\n",
    "Calidad de la predicción: La arquitectura implementada posee un buen desempeño entre el nivel de precisión obtenido y el tiempo de ejecución. Asegúrese de no implementar una red excesivamente profunda probándola en los servidores que ofrece la plataforma Coursera, pues con estos realizamos la calificaciónde su solución. [40 puntos]\n",
    "\n",
    "\n",
    "#### Problema\n",
    "\n",
    "Fashion-MNIST es una base de datos de imágenes de artículos de la tienda de ropa Zalando, que consta de un set de entrenamiento de 60000 muestras y un set de test de 10000 muestras. Cada dato es una imagen en escala de grises de una prenda de vestir, asociada con una etiqueta de 10 clases.\n",
    "\n",
    "Ustedes deben proponer el algoritmo para hacer la clasificación de las prendas con una red neuronal convolucional."
   ]
  },
  {
   "cell_type": "markdown",
   "metadata": {
    "id": "yQUTyauSqfdD"
   },
   "source": [
    "### Librerías a importar"
   ]
  },
  {
   "cell_type": "code",
   "execution_count": 14,
   "metadata": {
    "id": "b7FZBYtzqfdE",
    "tags": []
   },
   "outputs": [],
   "source": [
    "import numpy as np\n",
    "import matplotlib.pyplot as plt\n",
    "#Las siguientes dos líneas evitan la generación de \"warnings\" y \"flags\" al importar keras y tensorflow.\n",
    "#Dichas advertencias no comprometen el funcionamiento del código.\n",
    "import os\n",
    "os.environ['TF_CPP_MIN_LOG_LEVEL'] = '3' \n",
    "#Importación de keras\n",
    "import keras\n",
    "import tensorflow as tf\n",
    "from keras import models\n",
    "from keras import layers\n",
    "from keras.models import Sequential\n",
    "from keras.layers import Dense, Dropout, Flatten\n",
    "from keras.layers import Conv2D, MaxPooling2D\n",
    "from keras.layers import AveragePooling2D"
   ]
  },
  {
   "cell_type": "markdown",
   "metadata": {
    "id": "p6PQCLuOqfdF"
   },
   "source": [
    "### 1. Preparación de las variables (15 puntos)\n",
    "\n",
    "Adapte los datos apropiadamente para el uso de las funciones de `keras` y realiza la partición de la muestra en entrenamiento, validación y test."
   ]
  },
  {
   "cell_type": "code",
   "execution_count": 2,
   "metadata": {
    "id": "kCbBgdbcqfdF"
   },
   "outputs": [],
   "source": [
    "from keras.datasets import fashion_mnist\n",
    "(x_train, y_train), (x_test, y_test) = fashion_mnist.load_data()"
   ]
  },
  {
   "cell_type": "code",
   "execution_count": 3,
   "metadata": {},
   "outputs": [
    {
     "name": "stdout",
     "output_type": "stream",
     "text": [
      "Dimensiones de los datos de Training:  (60000, 28, 28) (60000,)\n",
      "Dimensiones de los datos de Testing:  (10000, 28, 28) (10000,)\n"
     ]
    }
   ],
   "source": [
    "print('Dimensiones de los datos de Training: ', x_train.shape, y_train.shape)\n",
    "print('Dimensiones de los datos de Testing: ', x_test.shape, y_test.shape)"
   ]
  },
  {
   "cell_type": "code",
   "execution_count": 4,
   "metadata": {},
   "outputs": [
    {
     "name": "stdout",
     "output_type": "stream",
     "text": [
      "Número total de clases:  10\n",
      "Clases/labels:  [0 1 2 3 4 5 6 7 8 9]\n"
     ]
    }
   ],
   "source": [
    "classes = np.unique(y_train)\n",
    "nClasses = len(classes)\n",
    "print('Número total de clases: ', nClasses)\n",
    "print('Clases/labels: ', classes)"
   ]
  },
  {
   "cell_type": "code",
   "execution_count": 5,
   "metadata": {},
   "outputs": [
    {
     "data": {
      "text/plain": [
       "Text(0.5, 1.0, 'Label : 9')"
      ]
     },
     "execution_count": 5,
     "metadata": {},
     "output_type": "execute_result"
    },
    {
     "data": {
      "image/png": "[encoded data removed]",
      "text/plain": [
       "<Figure size 500x500 with 2 Axes>"
      ]
     },
     "metadata": {},
     "output_type": "display_data"
    }
   ],
   "source": [
    "plt.figure(figsize=[5,5])\n",
    "# Visualiza la primera imagen en la base de training\n",
    "plt.subplot(121)\n",
    "plt.imshow(x_train[0,:,:], cmap='gray')\n",
    "plt.title(\"Label : {}\".format(y_train[0]))\n",
    "\n",
    "# Visualiza la primera imagen en la base de testing\n",
    "plt.subplot(122)\n",
    "plt.imshow(x_test[0,:,:], cmap='gray')\n",
    "plt.title(\"Label : {}\".format(y_test[0]))"
   ]
  },
  {
   "cell_type": "code",
   "execution_count": 8,
   "metadata": {},
   "outputs": [],
   "source": [
    "train_X = x_train.astype('float32')\n",
    "test_X = x_test.astype('float32')\n",
    "train_X = train_X / 255.\n",
    "test_X = test_X / 255."
   ]
  },
  {
   "cell_type": "code",
   "execution_count": null,
   "metadata": {},
   "outputs": [],
   "source": [
    "from sklearn.model_selection import train_test_split\n",
    "train_X,valid_X,train_label,valid_label = train_test_split(train_X, y_train, test_size=0.2, random_state=1324)\n",
    "train_X.shape,valid_X.shape,train_label.shape,valid_label.shape"
   ]
  },
  {
   "cell_type": "code",
   "execution_count": 10,
   "metadata": {},
   "outputs": [
    {
     "data": {
      "text/plain": [
       "((48000, 28, 28, 1), (10000, 28, 28, 1))"
      ]
     },
     "execution_count": 10,
     "metadata": {},
     "output_type": "execute_result"
    }
   ],
   "source": [
    "image_rows = train_X.shape[1]\n",
    "image_cols = train_X.shape[2]\n",
    "train_X = train_X.reshape(-1,image_rows,image_cols, 1)\n",
    "test_X = test_X.reshape(-1,image_rows,image_cols, 1)\n",
    "train_X.shape, test_X.shape"
   ]
  },
  {
   "cell_type": "code",
   "execution_count": 12,
   "metadata": {},
   "outputs": [
    {
     "name": "stdout",
     "output_type": "stream",
     "text": [
      "Dimensiones de train_X: (48000, 28, 28, 1, 1)\n",
      "Dimensiones de valid_X: (12000, 28, 28, 1, 1)\n",
      "Dimensiones de train_label: (48000,)\n",
      "Dimensiones de valid_label: (12000,)\n"
     ]
    }
   ],
   "source": [
    "# Visualizar las dimensiones después de la partición\n",
    "print('Dimensiones de train_X:', train_X.shape)\n",
    "print('Dimensiones de valid_X:', valid_X.shape)\n",
    "print('Dimensiones de train_label:', train_label.shape)\n",
    "print('Dimensiones de valid_label:', valid_label.shape)"
   ]
  },
  {
   "cell_type": "markdown",
   "metadata": {
    "id": "vGBvlfJ4qfdF"
   },
   "source": [
    "Lo que se hizo anteriormente fue cargar los datos de la base Fashion-MNI disponibles en el paquete `tensorflow-keras`,la base de datos está dividida originalmente en una sección de train y otra de test, las imágenes estan codificadas como arreglos de numpy, y los labels son un arreglo de digitos de 0 a 9; vemos que es una base de 60.000 imágenes en escala de grises de 28x28 de 10 categorías de moda, junto con un conjunto de prueba de 10.000 imágenes.\n",
    "\n",
    "Se visualizan anteriormente algunas imagenes de la base, se subdividen los datos de entrenamiento para obtener los datos requeridos para la calibración de pesos de la red y los datos de validación y se ajustan las dimensiones de los datos para que puedan ser trabajadas por las funciones de `keras`. "
   ]
  },
  {
   "cell_type": "markdown",
   "metadata": {
    "id": "iV0E9KxbqfdG"
   },
   "source": [
    "### 2. Estimación de un modelo utilizando redes neuronales convolucionales (45 puntos)\n",
    "\n",
    "Estimen un modelo predictivo usando la muestra de entrenamiento y establezcan apropiadamente cada uno de los parámetros de la red."
   ]
  },
  {
   "cell_type": "code",
   "execution_count": 15,
   "metadata": {
    "id": "817ER4dgqfdG"
   },
   "outputs": [],
   "source": [
    "digits_model = Sequential()\n",
    "digits_model.add(Conv2D(32, kernel_size=(3, 3),activation='relu',input_shape=(image_rows,image_cols,1),padding='same'))\n",
    "digits_model.add(MaxPooling2D((2, 2),padding='same'))\n",
    "digits_model.add(Dropout(0.2))\n",
    "digits_model.add(Flatten())\n",
    "digits_model.add(Dense(64, activation='relu'))               \n",
    "digits_model.add(Dense(nClasses, activation='softmax'))"
   ]
  },
  {
   "cell_type": "code",
   "execution_count": 16,
   "metadata": {},
   "outputs": [
    {
     "name": "stdout",
     "output_type": "stream",
     "text": [
      "Model: \"sequential\"\n",
      "_________________________________________________________________\n",
      " Layer (type)                Output Shape              Param #   \n",
      "=================================================================\n",
      " conv2d (Conv2D)             (None, 28, 28, 32)        320       \n",
      "                                                                 \n",
      " max_pooling2d (MaxPooling2D  (None, 14, 14, 32)       0         \n",
      " )                                                               \n",
      "                                                                 \n",
      " dropout (Dropout)           (None, 14, 14, 32)        0         \n",
      "                                                                 \n",
      " flatten (Flatten)           (None, 6272)              0         \n",
      "                                                                 \n",
      " dense (Dense)               (None, 64)                401472    \n",
      "                                                                 \n",
      " dense_1 (Dense)             (None, 10)                650       \n",
      "                                                                 \n",
      "=================================================================\n",
      "Total params: 402,442\n",
      "Trainable params: 402,442\n",
      "Non-trainable params: 0\n",
      "_________________________________________________________________\n"
     ]
    }
   ],
   "source": [
    "digits_model.compile(loss='sparse_categorical_crossentropy', optimizer=keras.optimizers.Adam(learning_rate=0.01),metrics =['accuracy'])\n",
    "digits_model.summary()"
   ]
  },
  {
   "cell_type": "code",
   "execution_count": 17,
   "metadata": {},
   "outputs": [
    {
     "name": "stdout",
     "output_type": "stream",
     "text": [
      "Epoch 1/25\n",
      "10/10 [==============================] - 32s 3s/step - loss: 2.3034 - accuracy: 0.1076 - val_loss: 2.2984 - val_accuracy: 0.1002\n",
      "Epoch 2/25\n",
      "10/10 [==============================] - 30s 3s/step - loss: 2.2857 - accuracy: 0.1973 - val_loss: 2.2565 - val_accuracy: 0.3378\n",
      "Epoch 3/25\n",
      "10/10 [==============================] - 30s 3s/step - loss: 2.2009 - accuracy: 0.2735 - val_loss: 2.0950 - val_accuracy: 0.3925\n",
      "Epoch 4/25\n",
      "10/10 [==============================] - 31s 3s/step - loss: 1.9598 - accuracy: 0.4021 - val_loss: 1.7649 - val_accuracy: 0.4442\n",
      "Epoch 5/25\n",
      "10/10 [==============================] - 30s 3s/step - loss: 1.6358 - accuracy: 0.4449 - val_loss: 1.5243 - val_accuracy: 0.4197\n",
      "Epoch 6/25\n",
      "10/10 [==============================] - 31s 3s/step - loss: 1.3902 - accuracy: 0.5135 - val_loss: 1.2609 - val_accuracy: 0.5878\n",
      "Epoch 7/25\n",
      "10/10 [==============================] - 30s 3s/step - loss: 1.1940 - accuracy: 0.5858 - val_loss: 1.1057 - val_accuracy: 0.6057\n",
      "Epoch 8/25\n",
      "10/10 [==============================] - 30s 3s/step - loss: 1.0457 - accuracy: 0.6283 - val_loss: 0.9743 - val_accuracy: 0.6702\n",
      "Epoch 9/25\n",
      "10/10 [==============================] - 30s 3s/step - loss: 0.9423 - accuracy: 0.6601 - val_loss: 0.8849 - val_accuracy: 0.6862\n",
      "Epoch 10/25\n",
      "10/10 [==============================] - 30s 3s/step - loss: 0.8691 - accuracy: 0.6797 - val_loss: 0.8256 - val_accuracy: 0.6954\n",
      "Epoch 11/25\n",
      "10/10 [==============================] - 30s 3s/step - loss: 0.8186 - accuracy: 0.6923 - val_loss: 0.7798 - val_accuracy: 0.7092\n",
      "Epoch 12/25\n",
      "10/10 [==============================] - 30s 3s/step - loss: 0.7853 - accuracy: 0.7037 - val_loss: 0.7483 - val_accuracy: 0.7237\n",
      "Epoch 13/25\n",
      "10/10 [==============================] - 30s 3s/step - loss: 0.7582 - accuracy: 0.7118 - val_loss: 0.7238 - val_accuracy: 0.7290\n",
      "Epoch 14/25\n",
      "10/10 [==============================] - 31s 3s/step - loss: 0.7395 - accuracy: 0.7173 - val_loss: 0.7021 - val_accuracy: 0.7404\n",
      "Epoch 15/25\n",
      "10/10 [==============================] - 30s 3s/step - loss: 0.7217 - accuracy: 0.7270 - val_loss: 0.6851 - val_accuracy: 0.7483\n",
      "Epoch 16/25\n",
      "10/10 [==============================] - 30s 3s/step - loss: 0.7075 - accuracy: 0.7329 - val_loss: 0.6719 - val_accuracy: 0.7534\n",
      "Epoch 17/25\n",
      "10/10 [==============================] - 30s 3s/step - loss: 0.6958 - accuracy: 0.7395 - val_loss: 0.6583 - val_accuracy: 0.7593\n",
      "Epoch 18/25\n",
      "10/10 [==============================] - 31s 3s/step - loss: 0.6848 - accuracy: 0.7423 - val_loss: 0.6485 - val_accuracy: 0.7643\n",
      "Epoch 19/25\n",
      "10/10 [==============================] - 30s 3s/step - loss: 0.6783 - accuracy: 0.7474 - val_loss: 0.6390 - val_accuracy: 0.7690\n",
      "Epoch 20/25\n",
      "10/10 [==============================] - 31s 3s/step - loss: 0.6664 - accuracy: 0.7521 - val_loss: 0.6282 - val_accuracy: 0.7707\n",
      "Epoch 21/25\n",
      "10/10 [==============================] - 31s 3s/step - loss: 0.6599 - accuracy: 0.7528 - val_loss: 0.6184 - val_accuracy: 0.7759\n",
      "Epoch 22/25\n",
      "10/10 [==============================] - 30s 3s/step - loss: 0.6521 - accuracy: 0.7571 - val_loss: 0.6118 - val_accuracy: 0.7777\n",
      "Epoch 23/25\n",
      "10/10 [==============================] - 31s 3s/step - loss: 0.6460 - accuracy: 0.7602 - val_loss: 0.6031 - val_accuracy: 0.7845\n",
      "Epoch 24/25\n",
      "10/10 [==============================] - 30s 3s/step - loss: 0.6409 - accuracy: 0.7642 - val_loss: 0.5975 - val_accuracy: 0.7843\n",
      "Epoch 25/25\n",
      "10/10 [==============================] - 30s 3s/step - loss: 0.6379 - accuracy: 0.7647 - val_loss: 0.5932 - val_accuracy: 0.7872\n"
     ]
    }
   ],
   "source": [
    "batch_size = 4800\n",
    "epochs = 25\n",
    "digits_train = digits_model.fit(train_X, train_label, batch_size=batch_size,epochs=epochs,verbose=1,validation_data=(valid_X, valid_label))"
   ]
  },
  {
   "cell_type": "code",
   "execution_count": 18,
   "metadata": {},
   "outputs": [
    {
     "data": {
      "image/png": "[encoded data removed]",
      "text/plain": [
       "<Figure size 640x480 with 1 Axes>"
      ]
     },
     "metadata": {},
     "output_type": "display_data"
    },
    {
     "data": {
      "image/png": "[encoded data removed]",
      "text/plain": [
       "<Figure size 640x480 with 1 Axes>"
      ]
     },
     "metadata": {},
     "output_type": "display_data"
    }
   ],
   "source": [
    "accuracy = digits_train.history['accuracy']\n",
    "val_accuracy = digits_train.history['val_accuracy']\n",
    "loss = digits_train.history['loss']\n",
    "val_loss = digits_train.history['val_loss']\n",
    "epochs = range(len(accuracy))\n",
    "plt.plot(epochs, accuracy, 'bo', label='Training accuracy')\n",
    "plt.plot(epochs, val_accuracy, 'b', label='Validation accuracy')\n",
    "plt.title('Training and validation accuracy')\n",
    "plt.legend()\n",
    "plt.figure()\n",
    "plt.plot(epochs, loss, 'bo', label='Training loss')\n",
    "plt.plot(epochs, val_loss, 'b', label='Validation loss')\n",
    "plt.title('Training and validation loss')\n",
    "plt.legend()\n",
    "plt.show()"
   ]
  },
  {
   "cell_type": "markdown",
   "metadata": {
    "id": "qMsXnV_tqfdG"
   },
   "source": [
    "(Utilicen este espacio para describir su procedimiento y escribir su análisis y conclusiones sobre el punto 2)"
   ]
  },
  {
   "cell_type": "markdown",
   "metadata": {
    "id": "cVAgMpGNqfdH"
   },
   "source": [
    "### 3. Calidad de la predicción (40 puntos)\n",
    "\n",
    "Evalúe el desempeño de su algoritmo con el set de _test_ y argumente sobre el nivel de precisión obtenido, tiempo de ejecución y la arquitectura de su red convolucional."
   ]
  },
  {
   "cell_type": "code",
   "execution_count": 19,
   "metadata": {
    "id": "Hs2D9Gb4qfdH"
   },
   "outputs": [
    {
     "name": "stdout",
     "output_type": "stream",
     "text": [
      "Test loss: 0.6061295866966248\n",
      "Test accuracy: 0.7806000113487244\n"
     ]
    }
   ],
   "source": [
    "test_eval = digits_model.evaluate(test_X, y_test, verbose=0)\n",
    "print('Test loss:', test_eval[0])\n",
    "print('Test accuracy:', test_eval[1])"
   ]
  },
  {
   "cell_type": "code",
   "execution_count": null,
   "metadata": {},
   "outputs": [],
   "source": [
    "predicted_classes = digits_model.predict(test_X)\n",
    "predicted_classes = np.argmax(np.round(predicted_classes),axis=1)\n",
    "correct = np.where(predicted_classes==y_test)[0]\n",
    "test=\"Se encontraron %s labels correctos\" % len(correct)\n",
    "print(test) \n",
    "for i, correct in enumerate(correct[:9]):\n",
    "    plt.subplot(3,3,i+1)\n",
    "    plt.imshow(test_X[correct].reshape(28,28), cmap='gray', interpolation='none')\n",
    "    plt.title(\"Predicted {}, Class {}\".format(predicted_classes[correct], y_test[correct]))\n",
    "plt.tight_layout()"
   ]
  },
  {
   "cell_type": "markdown",
   "metadata": {
    "id": "15MukKo4qfdH"
   },
   "source": [
    "(Utilicen este espacio para describir su procedimiento y escribir su análisis y conclusiones sobre el punto 3)"
   ]
  }
 ],
 "metadata": {
  "colab": {
   "provenance": []
  },
  "kernelspec": {
   "display_name": "Python 3 (ipykernel)",
   "language": "python",
   "name": "python3"
  },
  "language_info": {
   "codemirror_mode": {
    "name": "ipython",
    "version": 3
   },
   "file_extension": ".py",
   "mimetype": "text/x-python",
   "name": "python",
   "nbconvert_exporter": "python",
   "pygments_lexer": "ipython3",
   "version": "3.10.10"
  }
 },
 "nbformat": 4,
 "nbformat_minor": 4
}
